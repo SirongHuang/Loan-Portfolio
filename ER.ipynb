{
 "cells": [
  {
   "cell_type": "code",
   "execution_count": 46,
   "metadata": {},
   "outputs": [],
   "source": [
    "import pandas as pd\n",
    "import numpy as np"
   ]
  },
  {
   "cell_type": "code",
   "execution_count": 47,
   "metadata": {},
   "outputs": [],
   "source": [
    "test_df = pd.read_csv('processed_test.csv',low_memory=False)\n",
    "data_df = pd.read_csv('PD.csv', names=['PD'],low_memory=False)"
   ]
  },
  {
   "cell_type": "code",
   "execution_count": 48,
   "metadata": {},
   "outputs": [
    {
     "name": "stdout",
     "output_type": "stream",
     "text": [
      "Test set (96779, 92)\n",
      "Probabilities (96779, 1)\n"
     ]
    }
   ],
   "source": [
    "print(\"Test set\",test_df.shape)\n",
    "print(\"Probabilities\",data_df.shape)"
   ]
  },
  {
   "cell_type": "code",
   "execution_count": 49,
   "metadata": {},
   "outputs": [],
   "source": [
    "#test_df.head()"
   ]
  },
  {
   "cell_type": "code",
   "execution_count": 50,
   "metadata": {},
   "outputs": [
    {
     "data": {
      "text/html": [
       "<div>\n",
       "<style scoped>\n",
       "    .dataframe tbody tr th:only-of-type {\n",
       "        vertical-align: middle;\n",
       "    }\n",
       "\n",
       "    .dataframe tbody tr th {\n",
       "        vertical-align: top;\n",
       "    }\n",
       "\n",
       "    .dataframe thead th {\n",
       "        text-align: right;\n",
       "    }\n",
       "</style>\n",
       "<table border=\"1\" class=\"dataframe\">\n",
       "  <thead>\n",
       "    <tr style=\"text-align: right;\">\n",
       "      <th></th>\n",
       "      <th>PD</th>\n",
       "      <th>ERL</th>\n",
       "      <th>loan_amnt</th>\n",
       "      <th>int_rate</th>\n",
       "      <th>ER</th>\n",
       "    </tr>\n",
       "  </thead>\n",
       "  <tbody>\n",
       "    <tr>\n",
       "      <th>0</th>\n",
       "      <td>0.004935</td>\n",
       "      <td>0.001974</td>\n",
       "      <td>15000</td>\n",
       "      <td>0.0532</td>\n",
       "      <td>0.051226</td>\n",
       "    </tr>\n",
       "    <tr>\n",
       "      <th>1</th>\n",
       "      <td>0.109972</td>\n",
       "      <td>0.043989</td>\n",
       "      <td>17000</td>\n",
       "      <td>0.0749</td>\n",
       "      <td>0.030911</td>\n",
       "    </tr>\n",
       "    <tr>\n",
       "      <th>2</th>\n",
       "      <td>0.038825</td>\n",
       "      <td>0.015530</td>\n",
       "      <td>20000</td>\n",
       "      <td>0.0532</td>\n",
       "      <td>0.037670</td>\n",
       "    </tr>\n",
       "    <tr>\n",
       "      <th>3</th>\n",
       "      <td>0.040959</td>\n",
       "      <td>0.016384</td>\n",
       "      <td>16000</td>\n",
       "      <td>0.1274</td>\n",
       "      <td>0.111016</td>\n",
       "    </tr>\n",
       "    <tr>\n",
       "      <th>4</th>\n",
       "      <td>0.159881</td>\n",
       "      <td>0.063952</td>\n",
       "      <td>2000</td>\n",
       "      <td>0.1699</td>\n",
       "      <td>0.105948</td>\n",
       "    </tr>\n",
       "  </tbody>\n",
       "</table>\n",
       "</div>"
      ],
      "text/plain": [
       "         PD       ERL  loan_amnt  int_rate        ER\n",
       "0  0.004935  0.001974      15000    0.0532  0.051226\n",
       "1  0.109972  0.043989      17000    0.0749  0.030911\n",
       "2  0.038825  0.015530      20000    0.0532  0.037670\n",
       "3  0.040959  0.016384      16000    0.1274  0.111016\n",
       "4  0.159881  0.063952       2000    0.1699  0.105948"
      ]
     },
     "execution_count": 50,
     "metadata": {},
     "output_type": "execute_result"
    }
   ],
   "source": [
    "data_df['ERL'] = data_df['PD']*0.4\n",
    "data_df['loan_amnt'] = test_df['loan_amnt'].astype('int')\n",
    "data_df['int_rate'] = test_df['int_rate'].str.rstrip('%').astype('float')/ 100.0\n",
    "data_df['ER'] = data_df['int_rate']-data_df['ERL']\n",
    "\n",
    "data_df.head()"
   ]
  },
  {
   "cell_type": "code",
   "execution_count": 51,
   "metadata": {},
   "outputs": [],
   "source": [
    "#test_df = pd.concat([test_df, data_df], axis=1)\n",
    "#test_df.head()"
   ]
  },
  {
   "cell_type": "code",
   "execution_count": 52,
   "metadata": {},
   "outputs": [],
   "source": [
    "np.savetxt(\"ER.csv\", data_df, delimiter=\",\")"
   ]
  },
  {
   "cell_type": "code",
   "execution_count": null,
   "metadata": {},
   "outputs": [],
   "source": []
  }
 ],
 "metadata": {
  "kernelspec": {
   "display_name": "Python 3",
   "language": "python",
   "name": "python3"
  },
  "language_info": {
   "codemirror_mode": {
    "name": "ipython",
    "version": 3
   },
   "file_extension": ".py",
   "mimetype": "text/x-python",
   "name": "python",
   "nbconvert_exporter": "python",
   "pygments_lexer": "ipython3",
   "version": "3.6.7"
  }
 },
 "nbformat": 4,
 "nbformat_minor": 2
}
