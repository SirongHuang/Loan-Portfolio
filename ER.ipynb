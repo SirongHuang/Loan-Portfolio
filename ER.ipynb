{
 "cells": [
  {
   "cell_type": "code",
   "execution_count": 56,
   "metadata": {},
   "outputs": [],
   "source": [
    "import pandas as pd\n",
    "import numpy as np"
   ]
  },
  {
   "cell_type": "code",
   "execution_count": 58,
   "metadata": {},
   "outputs": [],
   "source": [
    "test_df = pd.read_csv('processed_test.csv',low_memory=False)\n",
    "data_df = pd.read_csv('PD.csv', names=['PD'],low_memory=False)"
   ]
  },
  {
   "cell_type": "code",
   "execution_count": 59,
   "metadata": {},
   "outputs": [
    {
     "name": "stdout",
     "output_type": "stream",
     "text": [
      "Test set (96779, 92)\n",
      "Probabilities (96779, 1)\n"
     ]
    }
   ],
   "source": [
    "print(\"Test set\",test_df.shape)\n",
    "print(\"Probabilities\",data_df.shape)"
   ]
  },
  {
   "cell_type": "code",
   "execution_count": 60,
   "metadata": {},
   "outputs": [],
   "source": [
    "#test_df.head()"
   ]
  },
  {
   "cell_type": "code",
   "execution_count": 61,
   "metadata": {},
   "outputs": [
    {
     "data": {
      "text/html": [
       "<div>\n",
       "<style scoped>\n",
       "    .dataframe tbody tr th:only-of-type {\n",
       "        vertical-align: middle;\n",
       "    }\n",
       "\n",
       "    .dataframe tbody tr th {\n",
       "        vertical-align: top;\n",
       "    }\n",
       "\n",
       "    .dataframe thead th {\n",
       "        text-align: right;\n",
       "    }\n",
       "</style>\n",
       "<table border=\"1\" class=\"dataframe\">\n",
       "  <thead>\n",
       "    <tr style=\"text-align: right;\">\n",
       "      <th></th>\n",
       "      <th>PD</th>\n",
       "      <th>ERL</th>\n",
       "      <th>loan_amnt</th>\n",
       "      <th>int_rate</th>\n",
       "      <th>ER</th>\n",
       "      <th>target</th>\n",
       "    </tr>\n",
       "  </thead>\n",
       "  <tbody>\n",
       "    <tr>\n",
       "      <th>0</th>\n",
       "      <td>0.006106</td>\n",
       "      <td>0.002442</td>\n",
       "      <td>15000</td>\n",
       "      <td>0.0532</td>\n",
       "      <td>0.050758</td>\n",
       "      <td>0</td>\n",
       "    </tr>\n",
       "    <tr>\n",
       "      <th>1</th>\n",
       "      <td>0.114520</td>\n",
       "      <td>0.045808</td>\n",
       "      <td>17000</td>\n",
       "      <td>0.0749</td>\n",
       "      <td>0.029092</td>\n",
       "      <td>0</td>\n",
       "    </tr>\n",
       "    <tr>\n",
       "      <th>2</th>\n",
       "      <td>0.038442</td>\n",
       "      <td>0.015377</td>\n",
       "      <td>20000</td>\n",
       "      <td>0.0532</td>\n",
       "      <td>0.037823</td>\n",
       "      <td>0</td>\n",
       "    </tr>\n",
       "    <tr>\n",
       "      <th>3</th>\n",
       "      <td>0.043442</td>\n",
       "      <td>0.017377</td>\n",
       "      <td>16000</td>\n",
       "      <td>0.1274</td>\n",
       "      <td>0.110023</td>\n",
       "      <td>0</td>\n",
       "    </tr>\n",
       "    <tr>\n",
       "      <th>4</th>\n",
       "      <td>0.151494</td>\n",
       "      <td>0.060598</td>\n",
       "      <td>2000</td>\n",
       "      <td>0.1699</td>\n",
       "      <td>0.109302</td>\n",
       "      <td>0</td>\n",
       "    </tr>\n",
       "  </tbody>\n",
       "</table>\n",
       "</div>"
      ],
      "text/plain": [
       "         PD       ERL  loan_amnt  int_rate        ER  target\n",
       "0  0.006106  0.002442      15000    0.0532  0.050758       0\n",
       "1  0.114520  0.045808      17000    0.0749  0.029092       0\n",
       "2  0.038442  0.015377      20000    0.0532  0.037823       0\n",
       "3  0.043442  0.017377      16000    0.1274  0.110023       0\n",
       "4  0.151494  0.060598       2000    0.1699  0.109302       0"
      ]
     },
     "execution_count": 61,
     "metadata": {},
     "output_type": "execute_result"
    }
   ],
   "source": [
    "data_df['ERL'] = data_df['PD']*0.4\n",
    "data_df['loan_amnt'] = test_df['loan_amnt'].astype('int')\n",
    "data_df['int_rate'] = test_df['int_rate'].str.rstrip('%').astype('float')/ 100.0\n",
    "data_df['ER'] = data_df['int_rate']-data_df['ERL']\n",
    "data_df['target'] = test_df['target'].astype('int')\n",
    "\n",
    "\n",
    "\n",
    "data_df.head()"
   ]
  },
  {
   "cell_type": "code",
   "execution_count": 51,
   "metadata": {},
   "outputs": [],
   "source": [
    "#test_df = pd.concat([test_df, data_df], axis=1)\n",
    "#test_df.head()"
   ]
  },
  {
   "cell_type": "code",
   "execution_count": 66,
   "metadata": {},
   "outputs": [],
   "source": [
    "np.savetxt(\"ER.csv\", data_df, delimiter=\",\")"
   ]
  },
  {
   "cell_type": "markdown",
   "metadata": {},
   "source": [
    "### ER for Random Forest "
   ]
  },
  {
   "cell_type": "code",
   "execution_count": 22,
   "metadata": {},
   "outputs": [],
   "source": [
    "data_df_rf = pd.read_csv('PD_rf.csv', names=['PD_rf'],low_memory=False)"
   ]
  },
  {
   "cell_type": "code",
   "execution_count": 24,
   "metadata": {},
   "outputs": [],
   "source": [
    "data_df_rf['ERL'] = data_df_rf['PD_rf']*0.4"
   ]
  },
  {
   "cell_type": "code",
   "execution_count": 26,
   "metadata": {},
   "outputs": [],
   "source": [
    "data_df_rf['loan_amnt'] = test_df['loan_amnt'].astype('int')"
   ]
  },
  {
   "cell_type": "code",
   "execution_count": 28,
   "metadata": {},
   "outputs": [],
   "source": [
    "data_df_rf['int_rate'] = test_df['int_rate'].str.rstrip('%').astype('float')/ 100.0\n"
   ]
  },
  {
   "cell_type": "code",
   "execution_count": 30,
   "metadata": {},
   "outputs": [],
   "source": [
    "data_df_rf['ER'] = data_df_rf['int_rate']-data_df_rf['ERL']"
   ]
  },
  {
   "cell_type": "code",
   "execution_count": 62,
   "metadata": {},
   "outputs": [],
   "source": [
    "data_df_rf['target'] = test_df['target'].astype('int')"
   ]
  },
  {
   "cell_type": "code",
   "execution_count": 67,
   "metadata": {},
   "outputs": [],
   "source": [
    "np.savetxt(\"ER_rf.csv\", data_df_rf, delimiter=\",\")"
   ]
  },
  {
   "cell_type": "code",
   "execution_count": 63,
   "metadata": {},
   "outputs": [
    {
     "data": {
      "text/html": [
       "<div>\n",
       "<style scoped>\n",
       "    .dataframe tbody tr th:only-of-type {\n",
       "        vertical-align: middle;\n",
       "    }\n",
       "\n",
       "    .dataframe tbody tr th {\n",
       "        vertical-align: top;\n",
       "    }\n",
       "\n",
       "    .dataframe thead th {\n",
       "        text-align: right;\n",
       "    }\n",
       "</style>\n",
       "<table border=\"1\" class=\"dataframe\">\n",
       "  <thead>\n",
       "    <tr style=\"text-align: right;\">\n",
       "      <th></th>\n",
       "      <th>PD_rf</th>\n",
       "      <th>ERL</th>\n",
       "      <th>loan_amnt</th>\n",
       "      <th>int_rate</th>\n",
       "      <th>ER</th>\n",
       "      <th>target</th>\n",
       "    </tr>\n",
       "  </thead>\n",
       "  <tbody>\n",
       "    <tr>\n",
       "      <th>0</th>\n",
       "      <td>0.0</td>\n",
       "      <td>0.00</td>\n",
       "      <td>15000</td>\n",
       "      <td>0.0532</td>\n",
       "      <td>0.0532</td>\n",
       "      <td>0</td>\n",
       "    </tr>\n",
       "    <tr>\n",
       "      <th>1</th>\n",
       "      <td>0.1</td>\n",
       "      <td>0.04</td>\n",
       "      <td>17000</td>\n",
       "      <td>0.0749</td>\n",
       "      <td>0.0349</td>\n",
       "      <td>0</td>\n",
       "    </tr>\n",
       "    <tr>\n",
       "      <th>2</th>\n",
       "      <td>0.1</td>\n",
       "      <td>0.04</td>\n",
       "      <td>20000</td>\n",
       "      <td>0.0532</td>\n",
       "      <td>0.0132</td>\n",
       "      <td>0</td>\n",
       "    </tr>\n",
       "    <tr>\n",
       "      <th>3</th>\n",
       "      <td>0.1</td>\n",
       "      <td>0.04</td>\n",
       "      <td>16000</td>\n",
       "      <td>0.1274</td>\n",
       "      <td>0.0874</td>\n",
       "      <td>0</td>\n",
       "    </tr>\n",
       "    <tr>\n",
       "      <th>4</th>\n",
       "      <td>0.1</td>\n",
       "      <td>0.04</td>\n",
       "      <td>2000</td>\n",
       "      <td>0.1699</td>\n",
       "      <td>0.1299</td>\n",
       "      <td>0</td>\n",
       "    </tr>\n",
       "  </tbody>\n",
       "</table>\n",
       "</div>"
      ],
      "text/plain": [
       "   PD_rf   ERL  loan_amnt  int_rate      ER  target\n",
       "0    0.0  0.00      15000    0.0532  0.0532       0\n",
       "1    0.1  0.04      17000    0.0749  0.0349       0\n",
       "2    0.1  0.04      20000    0.0532  0.0132       0\n",
       "3    0.1  0.04      16000    0.1274  0.0874       0\n",
       "4    0.1  0.04       2000    0.1699  0.1299       0"
      ]
     },
     "execution_count": 63,
     "metadata": {},
     "output_type": "execute_result"
    }
   ],
   "source": [
    "data_df_rf.head()"
   ]
  },
  {
   "cell_type": "markdown",
   "metadata": {},
   "source": [
    "### ER for Balanced Random Forest "
   ]
  },
  {
   "cell_type": "code",
   "execution_count": 35,
   "metadata": {},
   "outputs": [],
   "source": [
    "data_df_rf_balanced = pd.read_csv('PD_rf_balanced.csv', names=['PD_rf_balanced'],low_memory=False)"
   ]
  },
  {
   "cell_type": "code",
   "execution_count": 65,
   "metadata": {},
   "outputs": [
    {
     "data": {
      "text/html": [
       "<div>\n",
       "<style scoped>\n",
       "    .dataframe tbody tr th:only-of-type {\n",
       "        vertical-align: middle;\n",
       "    }\n",
       "\n",
       "    .dataframe tbody tr th {\n",
       "        vertical-align: top;\n",
       "    }\n",
       "\n",
       "    .dataframe thead th {\n",
       "        text-align: right;\n",
       "    }\n",
       "</style>\n",
       "<table border=\"1\" class=\"dataframe\">\n",
       "  <thead>\n",
       "    <tr style=\"text-align: right;\">\n",
       "      <th></th>\n",
       "      <th>PD_rf_balanced</th>\n",
       "      <th>ERL</th>\n",
       "      <th>loan_amnt</th>\n",
       "      <th>int_rate</th>\n",
       "      <th>ER</th>\n",
       "      <th>target</th>\n",
       "    </tr>\n",
       "  </thead>\n",
       "  <tbody>\n",
       "    <tr>\n",
       "      <th>0</th>\n",
       "      <td>0.224779</td>\n",
       "      <td>0.089912</td>\n",
       "      <td>15000</td>\n",
       "      <td>0.0532</td>\n",
       "      <td>-0.036712</td>\n",
       "      <td>0</td>\n",
       "    </tr>\n",
       "    <tr>\n",
       "      <th>1</th>\n",
       "      <td>0.266305</td>\n",
       "      <td>0.106522</td>\n",
       "      <td>17000</td>\n",
       "      <td>0.0749</td>\n",
       "      <td>-0.031622</td>\n",
       "      <td>0</td>\n",
       "    </tr>\n",
       "    <tr>\n",
       "      <th>2</th>\n",
       "      <td>0.423858</td>\n",
       "      <td>0.169543</td>\n",
       "      <td>20000</td>\n",
       "      <td>0.0532</td>\n",
       "      <td>-0.116343</td>\n",
       "      <td>0</td>\n",
       "    </tr>\n",
       "    <tr>\n",
       "      <th>3</th>\n",
       "      <td>0.339771</td>\n",
       "      <td>0.135908</td>\n",
       "      <td>16000</td>\n",
       "      <td>0.1274</td>\n",
       "      <td>-0.008508</td>\n",
       "      <td>0</td>\n",
       "    </tr>\n",
       "    <tr>\n",
       "      <th>4</th>\n",
       "      <td>0.407001</td>\n",
       "      <td>0.162800</td>\n",
       "      <td>2000</td>\n",
       "      <td>0.1699</td>\n",
       "      <td>0.007100</td>\n",
       "      <td>0</td>\n",
       "    </tr>\n",
       "  </tbody>\n",
       "</table>\n",
       "</div>"
      ],
      "text/plain": [
       "   PD_rf_balanced       ERL  loan_amnt  int_rate        ER  target\n",
       "0        0.224779  0.089912      15000    0.0532 -0.036712       0\n",
       "1        0.266305  0.106522      17000    0.0749 -0.031622       0\n",
       "2        0.423858  0.169543      20000    0.0532 -0.116343       0\n",
       "3        0.339771  0.135908      16000    0.1274 -0.008508       0\n",
       "4        0.407001  0.162800       2000    0.1699  0.007100       0"
      ]
     },
     "execution_count": 65,
     "metadata": {},
     "output_type": "execute_result"
    }
   ],
   "source": [
    "data_df_rf_balanced.head()"
   ]
  },
  {
   "cell_type": "code",
   "execution_count": 41,
   "metadata": {},
   "outputs": [
    {
     "name": "stdout",
     "output_type": "stream",
     "text": [
      "(96779, 1)\n"
     ]
    }
   ],
   "source": [
    "print(data_df_rf_balanced.shape)"
   ]
  },
  {
   "cell_type": "code",
   "execution_count": 42,
   "metadata": {},
   "outputs": [],
   "source": [
    "data_df_rf_balanced['ERL'] = data_df_rf_balanced['PD_rf_balanced']*0.4"
   ]
  },
  {
   "cell_type": "code",
   "execution_count": 44,
   "metadata": {},
   "outputs": [],
   "source": [
    "data_df_rf_balanced['loan_amnt'] = test_df['loan_amnt'].astype('int')"
   ]
  },
  {
   "cell_type": "code",
   "execution_count": 45,
   "metadata": {},
   "outputs": [],
   "source": [
    "data_df_rf_balanced['int_rate'] = test_df['int_rate'].str.rstrip('%').astype('float')/ 100.0"
   ]
  },
  {
   "cell_type": "code",
   "execution_count": 47,
   "metadata": {},
   "outputs": [],
   "source": [
    "data_df_rf_balanced['ER'] = data_df_rf_balanced['int_rate']-data_df_rf_balanced['ERL']"
   ]
  },
  {
   "cell_type": "code",
   "execution_count": 64,
   "metadata": {},
   "outputs": [],
   "source": [
    "data_df_rf_balanced['target'] = test_df['target'].astype('int')"
   ]
  },
  {
   "cell_type": "code",
   "execution_count": 68,
   "metadata": {},
   "outputs": [],
   "source": [
    "np.savetxt(\"ER_rf_balanced.csv\", data_df_rf_balanced, delimiter=\",\")"
   ]
  }
 ],
 "metadata": {
  "kernelspec": {
   "display_name": "Python 3",
   "language": "python",
   "name": "python3"
  },
  "language_info": {
   "codemirror_mode": {
    "name": "ipython",
    "version": 3
   },
   "file_extension": ".py",
   "mimetype": "text/x-python",
   "name": "python",
   "nbconvert_exporter": "python",
   "pygments_lexer": "ipython3",
   "version": "3.6.7"
  }
 },
 "nbformat": 4,
 "nbformat_minor": 2
}
