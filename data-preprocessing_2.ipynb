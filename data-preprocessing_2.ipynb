{
 "cells": [
  {
   "cell_type": "code",
   "execution_count": 61,
   "metadata": {},
   "outputs": [],
   "source": [
    "import warnings\n",
    "warnings.filterwarnings(\"ignore\")\n",
    "from datetime import datetime\n",
    "import copy\n",
    "import pandas as pd\n",
    "import numpy as np\n",
    "import matplotlib.pyplot as plt\n",
    "import seaborn as sns\n",
    "\n",
    "from sklearn.preprocessing import StandardScaler\n",
    "from sklearn.linear_model import LogisticRegression\n",
    "from sklearn.svm import SVC\n",
    "from sklearn.ensemble import RandomForestClassifier\n",
    "from sklearn.model_selection import StratifiedShuffleSplit, cross_val_score, GridSearchCV\n",
    "from sklearn.pipeline import make_pipeline\n",
    "from sklearn.metrics import mean_squared_error, roc_auc_score, roc_curve\n",
    "from sklearn import metrics"
   ]
  },
  {
   "cell_type": "code",
   "execution_count": 2,
   "metadata": {
    "scrolled": false
   },
   "outputs": [
    {
     "name": "stdout",
     "output_type": "stream",
     "text": [
      "(103546, 21) (96779, 22)\n"
     ]
    }
   ],
   "source": [
    "train_raw = pd.read_csv('LC_TrainingData.csv',low_memory=False)\n",
    "test_raw = pd.read_csv('LC_TestData.csv',low_memory=False)\n",
    "train_df = copy.copy(train_raw)\n",
    "test_df = copy.copy(test_raw)\n",
    "datasets = [train_df, test_df]\n",
    "print(train_df.shape,test_df.shape)"
   ]
  },
  {
   "cell_type": "code",
   "execution_count": 3,
   "metadata": {},
   "outputs": [],
   "source": [
    "def log_cv_score(df):\n",
    "    X = df.drop(['target'],axis=1)\n",
    "    y = df['target']\n",
    "\n",
    "    # stratified cv split to keep inbanaced data distribution same in each fold\n",
    "    cv = StratifiedShuffleSplit(n_splits=5,random_state=42)\n",
    "    \n",
    "    logreg = LogisticRegression(random_state=42)\n",
    "    score = cross_val_score(logreg, X, y, cv=cv).mean()\n",
    "    print(score)\n",
    "    return score"
   ]
  },
  {
   "cell_type": "markdown",
   "metadata": {},
   "source": [
    "# Data preprocessing"
   ]
  },
  {
   "cell_type": "markdown",
   "metadata": {},
   "source": [
    "### 1. Target variable"
   ]
  },
  {
   "cell_type": "markdown",
   "metadata": {},
   "source": [
    "\"Loan status\" tells if the payments of a loan are in time. \n",
    "- (\"grace period\", \"late\", \"charged off\", \"default\") => the loan is in default\n",
    "- (\"current\", \"fully paid\") => not in default\n",
    "\n",
    "__Severely inbalanced target variable__: may cause problems, depending on models. Possible solutions: upsampling "
   ]
  },
  {
   "cell_type": "code",
   "execution_count": 4,
   "metadata": {},
   "outputs": [],
   "source": [
    "# create target variable \n",
    "def create_target(df):\n",
    "    df['target'] = 1 # default\n",
    "    df.loc[(df['loan_status']=='Current') |  # not default\n",
    "                 (df['loan_status']=='Fully Paid'),'target'] = 0  \n",
    "    df = df.drop('loan_status',axis=1)\n",
    "    return df\n",
    "\n",
    "train_df = create_target(train_df)\n",
    "test_df = create_target(test_df)"
   ]
  },
  {
   "cell_type": "code",
   "execution_count": 5,
   "metadata": {},
   "outputs": [
    {
     "data": {
      "text/plain": [
       "Text(0,0.5,'Count')"
      ]
     },
     "execution_count": 5,
     "metadata": {},
     "output_type": "execute_result"
    },
    {
     "data": {
      "image/png": "[encoded data removed]",
      "text/plain": [
       "<Figure size 432x288 with 1 Axes>"
      ]
     },
     "metadata": {
      "needs_background": "light"
     },
     "output_type": "display_data"
    }
   ],
   "source": [
    "#plt.figure(figsize=(7,8))\n",
    "sns.countplot(train_df['target']);\n",
    "plt.xlabel('')\n",
    "plt.xticks([0,1],['Not in default','Default'],size=20)\n",
    "plt.ylabel('Count',size=18)"
   ]
  },
  {
   "cell_type": "code",
   "execution_count": 6,
   "metadata": {},
   "outputs": [
    {
     "data": {
      "text/plain": [
       "Text(0,0.5,'Count')"
      ]
     },
     "execution_count": 6,
     "metadata": {},
     "output_type": "execute_result"
    },
    {
     "data": {
      "image/png": "[encoded data removed]",
      "text/plain": [
       "<Figure size 432x288 with 1 Axes>"
      ]
     },
     "metadata": {
      "needs_background": "light"
     },
     "output_type": "display_data"
    }
   ],
   "source": [
    "#plt.figure(figsize=(7,8))\n",
    "sns.countplot(test_df['target']);\n",
    "plt.xlabel('')\n",
    "plt.xticks([0,1],['Not in default','Default'],size=20)\n",
    "plt.ylabel('Count',size=18)"
   ]
  },
  {
   "cell_type": "markdown",
   "metadata": {},
   "source": [
    "### 2. Missing values\n",
    "1. 'desc' column is 100% NA , simply remove it. \n",
    "2. 'mths_since_last_delinq' NA can be interpreted as last default case is very long time ago, therefore we should fill NA with a very large value. \n",
    "3. 'mths_since_last_record' NA can be interpreted as new users with no previous record, therefore fill NA with 0.\n",
    "4. 'emp_title', 'emp_length' NA can be treated as unemployed, or not provided. Either way, we could fill emp_title as empty string '', emp_length as 0.\n",
    "5. 'dti' is the ratio of total debt obligations(excluding mortgage and the requested Lending Club loan)/income, it represents the percentage of income that goes to debt payment. dit NA can be permuted with the average/mode dti. Because it's safer and more probable to assume that an applicant's dti is the average/most common dti, than any other extreme values such as 0 or 1. Also there are only 28 missing values, so the mean fills have negalectable impact on the dataset. \n",
    "6. there are only 4 'title' NAs, it's safe to fill those NAs with the most common title value. \n",
    "\n",
    "__Note that__: for test set, use the value(number/mean/mode) learnt from the training data!"
   ]
  },
  {
   "cell_type": "code",
   "execution_count": 7,
   "metadata": {
    "scrolled": false
   },
   "outputs": [
    {
     "data": {
      "text/html": [
       "<div>\n",
       "<style scoped>\n",
       "    .dataframe tbody tr th:only-of-type {\n",
       "        vertical-align: middle;\n",
       "    }\n",
       "\n",
       "    .dataframe tbody tr th {\n",
       "        vertical-align: top;\n",
       "    }\n",
       "\n",
       "    .dataframe thead th {\n",
       "        text-align: right;\n",
       "    }\n",
       "</style>\n",
       "<table border=\"1\" class=\"dataframe\">\n",
       "  <thead>\n",
       "    <tr style=\"text-align: right;\">\n",
       "      <th></th>\n",
       "      <th>NA count</th>\n",
       "      <th>NA percentage</th>\n",
       "    </tr>\n",
       "  </thead>\n",
       "  <tbody>\n",
       "    <tr>\n",
       "      <th>desc</th>\n",
       "      <td>103545</td>\n",
       "      <td>100</td>\n",
       "    </tr>\n",
       "    <tr>\n",
       "      <th>mths_since_last_record</th>\n",
       "      <td>82466</td>\n",
       "      <td>80</td>\n",
       "    </tr>\n",
       "    <tr>\n",
       "      <th>mths_since_last_delinq</th>\n",
       "      <td>47774</td>\n",
       "      <td>46</td>\n",
       "    </tr>\n",
       "    <tr>\n",
       "      <th>emp_title</th>\n",
       "      <td>7048</td>\n",
       "      <td>7</td>\n",
       "    </tr>\n",
       "    <tr>\n",
       "      <th>emp_length</th>\n",
       "      <td>6877</td>\n",
       "      <td>7</td>\n",
       "    </tr>\n",
       "    <tr>\n",
       "      <th>dti</th>\n",
       "      <td>28</td>\n",
       "      <td>0</td>\n",
       "    </tr>\n",
       "    <tr>\n",
       "      <th>title</th>\n",
       "      <td>4</td>\n",
       "      <td>0</td>\n",
       "    </tr>\n",
       "  </tbody>\n",
       "</table>\n",
       "</div>"
      ],
      "text/plain": [
       "                        NA count NA percentage\n",
       "desc                      103545           100\n",
       "mths_since_last_record     82466            80\n",
       "mths_since_last_delinq     47774            46\n",
       "emp_title                   7048             7\n",
       "emp_length                  6877             7\n",
       "dti                           28             0\n",
       "title                          4             0"
      ]
     },
     "metadata": {},
     "output_type": "display_data"
    },
    {
     "data": {
      "text/html": [
       "<div>\n",
       "<style scoped>\n",
       "    .dataframe tbody tr th:only-of-type {\n",
       "        vertical-align: middle;\n",
       "    }\n",
       "\n",
       "    .dataframe tbody tr th {\n",
       "        vertical-align: top;\n",
       "    }\n",
       "\n",
       "    .dataframe thead th {\n",
       "        text-align: right;\n",
       "    }\n",
       "</style>\n",
       "<table border=\"1\" class=\"dataframe\">\n",
       "  <thead>\n",
       "    <tr style=\"text-align: right;\">\n",
       "      <th></th>\n",
       "      <th>NA count</th>\n",
       "      <th>NA percentage</th>\n",
       "    </tr>\n",
       "  </thead>\n",
       "  <tbody>\n",
       "    <tr>\n",
       "      <th>desc</th>\n",
       "      <td>96779</td>\n",
       "      <td>100</td>\n",
       "    </tr>\n",
       "    <tr>\n",
       "      <th>mths_since_last_record</th>\n",
       "      <td>77674</td>\n",
       "      <td>80</td>\n",
       "    </tr>\n",
       "    <tr>\n",
       "      <th>mths_since_last_delinq</th>\n",
       "      <td>46293</td>\n",
       "      <td>48</td>\n",
       "    </tr>\n",
       "    <tr>\n",
       "      <th>emp_title</th>\n",
       "      <td>6892</td>\n",
       "      <td>7</td>\n",
       "    </tr>\n",
       "    <tr>\n",
       "      <th>emp_length</th>\n",
       "      <td>6792</td>\n",
       "      <td>7</td>\n",
       "    </tr>\n",
       "    <tr>\n",
       "      <th>dti</th>\n",
       "      <td>33</td>\n",
       "      <td>0</td>\n",
       "    </tr>\n",
       "    <tr>\n",
       "      <th>zip_code</th>\n",
       "      <td>1</td>\n",
       "      <td>0</td>\n",
       "    </tr>\n",
       "  </tbody>\n",
       "</table>\n",
       "</div>"
      ],
      "text/plain": [
       "                        NA count NA percentage\n",
       "desc                       96779           100\n",
       "mths_since_last_record     77674            80\n",
       "mths_since_last_delinq     46293            48\n",
       "emp_title                   6892             7\n",
       "emp_length                  6792             7\n",
       "dti                           33             0\n",
       "zip_code                       1             0"
      ]
     },
     "metadata": {},
     "output_type": "display_data"
    }
   ],
   "source": [
    "# show missing values\n",
    "def show_NA(df):\n",
    "    NAs = pd.concat([np.sum(df.isna()), \n",
    "                     (100*np.sum(df.isna())/df.shape[0]).map('{:,.0f}'.format)],\n",
    "                    axis=1, keys = ['NA count','NA percentage'])\n",
    "    display(NAs.loc[NAs['NA count']>0].sort_values('NA count',ascending=False))\n",
    "\n",
    "show_NA(train_df)\n",
    "show_NA(test_df)"
   ]
  },
  {
   "cell_type": "code",
   "execution_count": 8,
   "metadata": {
    "scrolled": true
   },
   "outputs": [],
   "source": [
    "# Drop and fill NAs with the same values learnt from train_df\n",
    "def fill_NA(df):\n",
    "    df = df.drop('desc',axis=1)\n",
    "    df['mths_since_last_record'].fillna(0, inplace=True)\n",
    "    df['mths_since_last_delinq'].fillna(1000, inplace=True)\n",
    "    df['emp_title'].fillna('', inplace=True)\n",
    "    df['emp_length'].fillna(0, inplace=True)\n",
    "    df['dti'].fillna(train_df['dti'].mean(), inplace=True)\n",
    "    df['title'].fillna(train_df['title'].mode().item(), inplace=True)\n",
    "    df['zip_code'].fillna(train_df['zip_code'].mode().item(), inplace=True)\n",
    "    return df\n",
    "\n",
    "train_df = fill_NA(train_df)\n",
    "test_df = fill_NA(test_df)"
   ]
  },
  {
   "cell_type": "code",
   "execution_count": 9,
   "metadata": {},
   "outputs": [
    {
     "data": {
      "text/html": [
       "<div>\n",
       "<style scoped>\n",
       "    .dataframe tbody tr th:only-of-type {\n",
       "        vertical-align: middle;\n",
       "    }\n",
       "\n",
       "    .dataframe tbody tr th {\n",
       "        vertical-align: top;\n",
       "    }\n",
       "\n",
       "    .dataframe thead th {\n",
       "        text-align: right;\n",
       "    }\n",
       "</style>\n",
       "<table border=\"1\" class=\"dataframe\">\n",
       "  <thead>\n",
       "    <tr style=\"text-align: right;\">\n",
       "      <th></th>\n",
       "      <th>NA count</th>\n",
       "      <th>NA percentage</th>\n",
       "    </tr>\n",
       "  </thead>\n",
       "  <tbody>\n",
       "  </tbody>\n",
       "</table>\n",
       "</div>"
      ],
      "text/plain": [
       "Empty DataFrame\n",
       "Columns: [NA count, NA percentage]\n",
       "Index: []"
      ]
     },
     "metadata": {},
     "output_type": "display_data"
    },
    {
     "data": {
      "text/html": [
       "<div>\n",
       "<style scoped>\n",
       "    .dataframe tbody tr th:only-of-type {\n",
       "        vertical-align: middle;\n",
       "    }\n",
       "\n",
       "    .dataframe tbody tr th {\n",
       "        vertical-align: top;\n",
       "    }\n",
       "\n",
       "    .dataframe thead th {\n",
       "        text-align: right;\n",
       "    }\n",
       "</style>\n",
       "<table border=\"1\" class=\"dataframe\">\n",
       "  <thead>\n",
       "    <tr style=\"text-align: right;\">\n",
       "      <th></th>\n",
       "      <th>NA count</th>\n",
       "      <th>NA percentage</th>\n",
       "    </tr>\n",
       "  </thead>\n",
       "  <tbody>\n",
       "  </tbody>\n",
       "</table>\n",
       "</div>"
      ],
      "text/plain": [
       "Empty DataFrame\n",
       "Columns: [NA count, NA percentage]\n",
       "Index: []"
      ]
     },
     "metadata": {},
     "output_type": "display_data"
    }
   ],
   "source": [
    "show_NA(train_df)\n",
    "show_NA(test_df)"
   ]
  },
  {
   "cell_type": "markdown",
   "metadata": {},
   "source": [
    "### 3. Numerical variables\n",
    "1. Extremely long tail left-skewed distributions: annual_inc, dti, delinq_2yrs, open_acc, pub_rec, may need to normalize them or log-scale transform. \n",
    "2. 'loan_amnt' and 'installment' are highly correlated, produce their interaction terms might be helpful to capture their correlation. "
   ]
  },
  {
   "cell_type": "code",
   "execution_count": 10,
   "metadata": {},
   "outputs": [
    {
     "name": "stdout",
     "output_type": "stream",
     "text": [
      "A total of 11 numerical variables: \n",
      "['loan_amnt', 'installment', 'annual_inc', 'dti', 'delinq_2yrs', 'inq_last_6mths', 'mths_since_last_delinq', 'mths_since_last_record', 'open_acc', 'pub_rec', 'target']\n"
     ]
    }
   ],
   "source": [
    "num_columns = train_df.select_dtypes(include=['number']).columns\n",
    "print(f'A total of {num_columns.size} numerical variables: ')\n",
    "print(list(num_columns))"
   ]
  },
  {
   "cell_type": "code",
   "execution_count": 11,
   "metadata": {},
   "outputs": [],
   "source": [
    "# Log-scale transform / normalization of numerical values\n",
    "# done later with sklearn in numpy array"
   ]
  },
  {
   "cell_type": "markdown",
   "metadata": {},
   "source": [
    "### 4. Categorical variables\n",
    "1. __emp_title__ has huge amount of possible categories. \n",
    "    - Try __one-hot-encoding 'emp_title' vs removing it__    \n",
    "        - If we do one-hot-encoding with all 38367 unique categories, then the feature space becomes very large and spase. \n",
    "        - It may be fine with regularization, but it still increases risks of overfitting. \n",
    "    - Create a __new feature: 'management_role'__, which = 1 if loander is in a senior or management position, 0 otherwise.\n",
    "2. __zip_code__ also has large category space, it's correlated to addr_state, but gives finer geographical proximity information eg. 723xx is close to 724xx. \n",
    "    - NO: use numerical value => compare closeness  \n",
    "    - YES: __one-hot-encoding__ => ignore proximity, only check if particular zip_code is useful for prediction or not. \n",
    "        - problem: new zip_code that are not in traning data will not be used because model hasn't learn the parameters for it \n",
    "3. !!! __Remove 'earliest_cr_line'__ for now, due to ambiguity \n",
    "    - problem: April.00 ==> 1900 or 2000?\n",
    "4. __'addr_state', 'title', 'home_ownership', 'verification_status', 'term'__ doesn't have order, use __one-hot-encoding__ to convert to numerical values\n",
    "5. __'emp_length'__ has order and should be changed into __ordinal categorical variable__"
   ]
  },
  {
   "cell_type": "code",
   "execution_count": 11,
   "metadata": {
    "scrolled": false
   },
   "outputs": [
    {
     "name": "stdout",
     "output_type": "stream",
     "text": [
      "A total of 9 str categorical variables: \n"
     ]
    },
    {
     "data": {
      "text/html": [
       "<div>\n",
       "<style scoped>\n",
       "    .dataframe tbody tr th:only-of-type {\n",
       "        vertical-align: middle;\n",
       "    }\n",
       "\n",
       "    .dataframe tbody tr th {\n",
       "        vertical-align: top;\n",
       "    }\n",
       "\n",
       "    .dataframe thead th {\n",
       "        text-align: right;\n",
       "    }\n",
       "</style>\n",
       "<table border=\"1\" class=\"dataframe\">\n",
       "  <thead>\n",
       "    <tr style=\"text-align: right;\">\n",
       "      <th></th>\n",
       "      <th>Unique value count</th>\n",
       "    </tr>\n",
       "  </thead>\n",
       "  <tbody>\n",
       "    <tr>\n",
       "      <th>emp_title</th>\n",
       "      <td>38367</td>\n",
       "    </tr>\n",
       "    <tr>\n",
       "      <th>zip_code</th>\n",
       "      <td>868</td>\n",
       "    </tr>\n",
       "    <tr>\n",
       "      <th>earliest_cr_line</th>\n",
       "      <td>621</td>\n",
       "    </tr>\n",
       "    <tr>\n",
       "      <th>addr_state</th>\n",
       "      <td>49</td>\n",
       "    </tr>\n",
       "    <tr>\n",
       "      <th>emp_length</th>\n",
       "      <td>12</td>\n",
       "    </tr>\n",
       "    <tr>\n",
       "      <th>title</th>\n",
       "      <td>12</td>\n",
       "    </tr>\n",
       "    <tr>\n",
       "      <th>home_ownership</th>\n",
       "      <td>4</td>\n",
       "    </tr>\n",
       "    <tr>\n",
       "      <th>verification_status</th>\n",
       "      <td>3</td>\n",
       "    </tr>\n",
       "    <tr>\n",
       "      <th>term</th>\n",
       "      <td>2</td>\n",
       "    </tr>\n",
       "  </tbody>\n",
       "</table>\n",
       "</div>"
      ],
      "text/plain": [
       "                     Unique value count\n",
       "emp_title                         38367\n",
       "zip_code                            868\n",
       "earliest_cr_line                    621\n",
       "addr_state                           49\n",
       "emp_length                           12\n",
       "title                                12\n",
       "home_ownership                        4\n",
       "verification_status                   3\n",
       "term                                  2"
      ]
     },
     "metadata": {},
     "output_type": "display_data"
    },
    {
     "data": {
      "text/html": [
       "<div>\n",
       "<style scoped>\n",
       "    .dataframe tbody tr th:only-of-type {\n",
       "        vertical-align: middle;\n",
       "    }\n",
       "\n",
       "    .dataframe tbody tr th {\n",
       "        vertical-align: top;\n",
       "    }\n",
       "\n",
       "    .dataframe thead th {\n",
       "        text-align: right;\n",
       "    }\n",
       "</style>\n",
       "<table border=\"1\" class=\"dataframe\">\n",
       "  <thead>\n",
       "    <tr style=\"text-align: right;\">\n",
       "      <th></th>\n",
       "      <th>emp_title</th>\n",
       "      <th>zip_code</th>\n",
       "      <th>earliest_cr_line</th>\n",
       "      <th>addr_state</th>\n",
       "      <th>emp_length</th>\n",
       "      <th>title</th>\n",
       "      <th>home_ownership</th>\n",
       "      <th>verification_status</th>\n",
       "      <th>term</th>\n",
       "    </tr>\n",
       "  </thead>\n",
       "  <tbody>\n",
       "    <tr>\n",
       "      <th>0</th>\n",
       "      <td>Senior Director</td>\n",
       "      <td>070xx</td>\n",
       "      <td>Oct.99</td>\n",
       "      <td>NJ</td>\n",
       "      <td>9 years</td>\n",
       "      <td>Home improvement</td>\n",
       "      <td>MORTGAGE</td>\n",
       "      <td>Not Verified</td>\n",
       "      <td>60 months</td>\n",
       "    </tr>\n",
       "    <tr>\n",
       "      <th>1</th>\n",
       "      <td>Lead machine operator</td>\n",
       "      <td>531xx</td>\n",
       "      <td>Apr.11</td>\n",
       "      <td>WI</td>\n",
       "      <td>6 years</td>\n",
       "      <td>Credit card refinancing</td>\n",
       "      <td>RENT</td>\n",
       "      <td>Not Verified</td>\n",
       "      <td>36 months</td>\n",
       "    </tr>\n",
       "    <tr>\n",
       "      <th>2</th>\n",
       "      <td>IT Specialist 6</td>\n",
       "      <td>984xx</td>\n",
       "      <td>Aug.94</td>\n",
       "      <td>WA</td>\n",
       "      <td>10+ years</td>\n",
       "      <td>Credit card refinancing</td>\n",
       "      <td>RENT</td>\n",
       "      <td>Not Verified</td>\n",
       "      <td>36 months</td>\n",
       "    </tr>\n",
       "    <tr>\n",
       "      <th>3</th>\n",
       "      <td>Nurse</td>\n",
       "      <td>112xx</td>\n",
       "      <td>Feb.92</td>\n",
       "      <td>NY</td>\n",
       "      <td>2 years</td>\n",
       "      <td>Debt consolidation</td>\n",
       "      <td>RENT</td>\n",
       "      <td>Not Verified</td>\n",
       "      <td>36 months</td>\n",
       "    </tr>\n",
       "    <tr>\n",
       "      <th>4</th>\n",
       "      <td>Lead ultrasound technologist</td>\n",
       "      <td>453xx</td>\n",
       "      <td>May.00</td>\n",
       "      <td>OH</td>\n",
       "      <td>10+ years</td>\n",
       "      <td>Debt consolidation</td>\n",
       "      <td>MORTGAGE</td>\n",
       "      <td>Source Verified</td>\n",
       "      <td>36 months</td>\n",
       "    </tr>\n",
       "  </tbody>\n",
       "</table>\n",
       "</div>"
      ],
      "text/plain": [
       "                       emp_title zip_code earliest_cr_line addr_state  \\\n",
       "0                Senior Director    070xx           Oct.99         NJ   \n",
       "1          Lead machine operator    531xx           Apr.11         WI   \n",
       "2                IT Specialist 6    984xx           Aug.94         WA   \n",
       "3                          Nurse    112xx           Feb.92         NY   \n",
       "4  Lead ultrasound technologist     453xx           May.00         OH   \n",
       "\n",
       "  emp_length                    title home_ownership verification_status  \\\n",
       "0    9 years         Home improvement       MORTGAGE        Not Verified   \n",
       "1    6 years  Credit card refinancing           RENT        Not Verified   \n",
       "2  10+ years  Credit card refinancing           RENT        Not Verified   \n",
       "3    2 years       Debt consolidation           RENT        Not Verified   \n",
       "4  10+ years       Debt consolidation       MORTGAGE     Source Verified   \n",
       "\n",
       "         term  \n",
       "0   60 months  \n",
       "1   36 months  \n",
       "2   36 months  \n",
       "3   36 months  \n",
       "4   36 months  "
      ]
     },
     "metadata": {},
     "output_type": "display_data"
    }
   ],
   "source": [
    "# list of columns that are not numerical \n",
    "str_columns = train_df.select_dtypes(include=['object']).columns\n",
    "print(f'A total of {str_columns.size} str categorical variables: ')\n",
    "# unique category count\n",
    "unique_value_count = [len(train_df[col].unique()) for col in str_columns]\n",
    "unique_value_rank = pd.DataFrame(unique_value_count,index = str_columns,\n",
    "             columns=['Unique value count']).sort_values('Unique value count',ascending=False)\n",
    "display(unique_value_rank)\n",
    "display(train_df[unique_value_rank.index].head())"
   ]
  },
  {
   "cell_type": "code",
   "execution_count": 12,
   "metadata": {},
   "outputs": [
    {
     "data": {
      "image/png": "[encoded data removed]",
      "text/plain": [
       "<Figure size 1152x1008 with 6 Axes>"
      ]
     },
     "metadata": {
      "needs_background": "light"
     },
     "output_type": "display_data"
    }
   ],
   "source": [
    "# plot categorical variable distributions\n",
    "\n",
    "# list of categorical variables with number of categories<=20\n",
    "cats = [c for c in str_columns if len(train_df[c].unique())<=20]\n",
    "\n",
    "fig = plt.figure(figsize=(16,14))\n",
    "for i in range(len(cats)+1):\n",
    "    \n",
    "    # make grids\n",
    "    if i < len(cats):\n",
    "        ax = fig.add_subplot(331+i)\n",
    "        variable = train_df[cats[i]]\n",
    "    else:\n",
    "        ax = fig.add_subplot(313)\n",
    "        variable = train_df['addr_state']\n",
    "    \n",
    "    s = sns.countplot(variable,ax=ax) \n",
    "    if len(variable.unique()) > 4:\n",
    "        s.set_xticklabels(ax.get_xticklabels(), rotation=40, ha=\"right\")\n",
    "plt.tight_layout()"
   ]
  },
  {
   "cell_type": "markdown",
   "metadata": {},
   "source": [
    "#### emp_title"
   ]
  },
  {
   "cell_type": "code",
   "execution_count": 13,
   "metadata": {
    "scrolled": true
   },
   "outputs": [
    {
     "name": "stdout",
     "output_type": "stream",
     "text": [
      "27.17% loaners are in senior or management positions.\n"
     ]
    }
   ],
   "source": [
    "# new features: whether the loaner is in a senior or management position\n",
    "senior_positions = 'manager|supervisor|superviser|owner|president \\\n",
    "                    |senior|director|leader'\n",
    "# boolean map that check if is senior/manager\n",
    "is_senior = train_df['emp_title'].str.lower().str.contains(senior_positions)\n",
    "print('%.2f%%'% (100*train_df[is_senior].shape[0]/train_df.shape[0]),'loaners are in senior or management positions.')\n",
    "# create new feature\n",
    "def create_management(df, is_senior=is_senior):\n",
    "    df['management_role'] = 0\n",
    "    df.loc[is_senior, 'management_role'] = 1\n",
    "    df = df.drop('emp_title',axis=1)\n",
    "    # Test: remove emp_title vs onehotencode\n",
    "    return df\n",
    "train_df = create_management(train_df)\n",
    "test_df = create_management(test_df)"
   ]
  },
  {
   "cell_type": "markdown",
   "metadata": {},
   "source": [
    "#### emp_length"
   ]
  },
  {
   "cell_type": "code",
   "execution_count": 14,
   "metadata": {},
   "outputs": [],
   "source": [
    "order=[0,'< 1 year','1 years','2 years','3 years','4 years','5 years',\n",
    "       '6 years','7 years','8 years','9 years','10+ years']\n",
    "train_df['emp_length'] = pd.Categorical(train_df['emp_length'],\n",
    "                                        ordered=True,\n",
    "                                        categories = order)\n",
    "test_df['emp_length'] = pd.Categorical(test_df['emp_length'],\n",
    "                                        ordered=True,\n",
    "                                        categories = order)\n",
    "train_df['emp_length'] = train_df['emp_length'].cat.codes\n",
    "test_df['emp_length'] = test_df['emp_length'].cat.codes\n",
    "#train_df.drop('emp_length', axis=1, inplace=True)"
   ]
  },
  {
   "cell_type": "markdown",
   "metadata": {},
   "source": [
    "#### regions from states"
   ]
  },
  {
   "cell_type": "code",
   "execution_count": 15,
   "metadata": {
    "scrolled": true
   },
   "outputs": [],
   "source": [
    "# Make region lists with state abbres\n",
    "west = ['CA', 'OR', 'UT','WA', 'CO', 'NV', 'AK', 'MT', 'HI', 'WY', 'ID']\n",
    "south_west = ['AZ', 'TX', 'NM', 'OK']\n",
    "south_east = ['GA', 'NC', 'VA', 'FL', 'KY', 'SC', 'LA', 'AL', 'WV', 'DC', 'AR', 'DE', 'MS', 'TN' ]\n",
    "mid_west = ['IL', 'MO', 'MN', 'OH', 'WI', 'KS', 'MI', 'SD', 'IA', 'NE', 'IN', 'ND']\n",
    "north_east = ['CT', 'NY', 'PA', 'NJ', 'RI','MA', 'MD', 'VT', 'NH', 'ME']\n",
    "\n",
    "train_df['region'] = np.nan\n",
    "\n",
    "def finding_regions(state):\n",
    "    if state in west:\n",
    "        return 'West'\n",
    "    elif state in south_west:\n",
    "        return 'SouthWest'\n",
    "    elif state in south_east:\n",
    "        return 'SouthEast'\n",
    "    elif state in mid_west:\n",
    "        return 'MidWest'\n",
    "    elif state in north_east:\n",
    "        return 'NorthEast'\n",
    "\n",
    "train_df['region'] = train_df['addr_state'].apply(finding_regions)\n",
    "test_df['region'] = test_df['addr_state'].apply(finding_regions)"
   ]
  },
  {
   "cell_type": "markdown",
   "metadata": {},
   "source": [
    "#### earliest_cr_line"
   ]
  },
  {
   "cell_type": "code",
   "execution_count": 16,
   "metadata": {},
   "outputs": [],
   "source": [
    "### !!! Not to use 'earliest_cr_line' for now, due to ambiguity !!! ###\n",
    "### !!! problem: April.00 ==> 1900 or 2000??? ###\n",
    "def month_diff(date):\n",
    "    # convert str to datetime \n",
    "    then=datetime.strptime(date, '%b.%y')\n",
    "    now = datetime(2019, 4, 1, 0, 0, 0, 0)\n",
    "    # time difference between fisrt credit line and now\n",
    "    diff = now-then \n",
    "    # return number of months\n",
    "    return diff.days/30\n",
    "train_df['mths_since_1st_credit_line']=train_df['earliest_cr_line'].map(month_diff)\n",
    "train_df = train_df.drop('earliest_cr_line',axis=1)\n",
    "test_df['mths_since_1st_credit_line']=test_df['earliest_cr_line'].map(month_diff)\n",
    "test_df = test_df.drop('earliest_cr_line',axis=1)"
   ]
  },
  {
   "cell_type": "markdown",
   "metadata": {},
   "source": [
    "#### zip code"
   ]
  },
  {
   "cell_type": "code",
   "execution_count": 17,
   "metadata": {},
   "outputs": [],
   "source": [
    "# Option 1: one-hot-encoding \n",
    "# Option 2: remove 'xx', convert to numerical value\n",
    "# Option 3: remove it \n",
    "\n",
    "# option 1\n",
    "def zipcode(df, method='onehot'):\n",
    "    if method == 'onehot':\n",
    "        onehot = pd.get_dummies(train_df['zip_code'])\n",
    "        df = df.join(onehot)\n",
    "        df.drop('zip_code', axis=1, inplace=True)\n",
    "        \n",
    "    if method == 'numerical':\n",
    "        def remove_xx(string):\n",
    "            string = string[:-2]\n",
    "            return string\n",
    "        df['zip_code'] = df['zip_code'].map(remove_xx)\n",
    "        \n",
    "    if method == 'remove':\n",
    "        df.drop('zip_code', axis=1, inplace=True)\n",
    "    \n",
    "    return df\n",
    "\n",
    "# drop it for now! \n",
    "train_df.drop('zip_code',axis=1,inplace=True)\n",
    "test_df.drop('zip_code',axis=1,inplace=True)\n",
    "\n",
    "#train_df = zipcode(train_df)\n",
    "#test_df = zipcode(test_df)"
   ]
  },
  {
   "cell_type": "markdown",
   "metadata": {},
   "source": [
    "#### one hot encoding"
   ]
  },
  {
   "cell_type": "code",
   "execution_count": 18,
   "metadata": {},
   "outputs": [
    {
     "name": "stdout",
     "output_type": "stream",
     "text": [
      "(103546, 91) (96779, 91)\n"
     ]
    }
   ],
   "source": [
    "col_names = ['addr_state', 'region', 'title', 'home_ownership', \n",
    "                   'verification_status','term']\n",
    "\n",
    "df = pd.concat([train_df,test_df])\n",
    "onehot = pd.get_dummies(df[col_names])\n",
    "df.drop(col_names, axis=1, inplace=True)\n",
    "df = pd.concat([df,onehot],axis=1)\n",
    "size = train_df.shape[0]\n",
    "train_df = df[:size]\n",
    "test_df = df[size:]\n",
    "print(train_df.shape, test_df.shape)"
   ]
  },
  {
   "cell_type": "code",
   "execution_count": 19,
   "metadata": {},
   "outputs": [
    {
     "data": {
      "text/plain": [
       "((103546, 91), (96779, 91))"
      ]
     },
     "execution_count": 19,
     "metadata": {},
     "output_type": "execute_result"
    }
   ],
   "source": [
    "train_df.shape, test_df.shape"
   ]
  },
  {
   "cell_type": "code",
   "execution_count": 20,
   "metadata": {},
   "outputs": [],
   "source": [
    "train_df.drop('int_rate',axis=1,inplace=True)\n",
    "#test_df.drop('int_rate',axis=1,inplace=True)"
   ]
  },
  {
   "cell_type": "markdown",
   "metadata": {},
   "source": [
    "## Final check and Export to csv"
   ]
  },
  {
   "cell_type": "code",
   "execution_count": 121,
   "metadata": {
    "scrolled": true
   },
   "outputs": [
    {
     "name": "stdout",
     "output_type": "stream",
     "text": [
      "(103546, 90)\n"
     ]
    },
    {
     "data": {
      "text/html": [
       "<div>\n",
       "<style scoped>\n",
       "    .dataframe tbody tr th:only-of-type {\n",
       "        vertical-align: middle;\n",
       "    }\n",
       "\n",
       "    .dataframe tbody tr th {\n",
       "        vertical-align: top;\n",
       "    }\n",
       "\n",
       "    .dataframe thead th {\n",
       "        text-align: right;\n",
       "    }\n",
       "</style>\n",
       "<table border=\"1\" class=\"dataframe\">\n",
       "  <thead>\n",
       "    <tr style=\"text-align: right;\">\n",
       "      <th></th>\n",
       "      <th>annual_inc</th>\n",
       "      <th>delinq_2yrs</th>\n",
       "      <th>dti</th>\n",
       "      <th>emp_length</th>\n",
       "      <th>inq_last_6mths</th>\n",
       "      <th>installment</th>\n",
       "      <th>loan_amnt</th>\n",
       "      <th>management_role</th>\n",
       "      <th>mths_since_1st_credit_line</th>\n",
       "      <th>mths_since_last_delinq</th>\n",
       "      <th>...</th>\n",
       "      <th>home_ownership_ANY</th>\n",
       "      <th>home_ownership_MORTGAGE</th>\n",
       "      <th>home_ownership_NONE</th>\n",
       "      <th>home_ownership_OWN</th>\n",
       "      <th>home_ownership_RENT</th>\n",
       "      <th>verification_status_Not Verified</th>\n",
       "      <th>verification_status_Source Verified</th>\n",
       "      <th>verification_status_Verified</th>\n",
       "      <th>term_ 36 months</th>\n",
       "      <th>term_ 60 months</th>\n",
       "    </tr>\n",
       "  </thead>\n",
       "  <tbody>\n",
       "    <tr>\n",
       "      <th>0</th>\n",
       "      <td>135000.0</td>\n",
       "      <td>1</td>\n",
       "      <td>6.60</td>\n",
       "      <td>10</td>\n",
       "      <td>0</td>\n",
       "      <td>291.92</td>\n",
       "      <td>14400</td>\n",
       "      <td>1</td>\n",
       "      <td>237.4</td>\n",
       "      <td>11.0</td>\n",
       "      <td>...</td>\n",
       "      <td>0</td>\n",
       "      <td>1</td>\n",
       "      <td>0</td>\n",
       "      <td>0</td>\n",
       "      <td>0</td>\n",
       "      <td>1</td>\n",
       "      <td>0</td>\n",
       "      <td>0</td>\n",
       "      <td>0</td>\n",
       "      <td>1</td>\n",
       "    </tr>\n",
       "    <tr>\n",
       "      <th>1</th>\n",
       "      <td>32000.0</td>\n",
       "      <td>0</td>\n",
       "      <td>29.93</td>\n",
       "      <td>7</td>\n",
       "      <td>1</td>\n",
       "      <td>151.06</td>\n",
       "      <td>4500</td>\n",
       "      <td>0</td>\n",
       "      <td>97.4</td>\n",
       "      <td>1000.0</td>\n",
       "      <td>...</td>\n",
       "      <td>0</td>\n",
       "      <td>0</td>\n",
       "      <td>0</td>\n",
       "      <td>0</td>\n",
       "      <td>1</td>\n",
       "      <td>1</td>\n",
       "      <td>0</td>\n",
       "      <td>0</td>\n",
       "      <td>1</td>\n",
       "      <td>0</td>\n",
       "    </tr>\n",
       "    <tr>\n",
       "      <th>2</th>\n",
       "      <td>89712.0</td>\n",
       "      <td>0</td>\n",
       "      <td>20.30</td>\n",
       "      <td>11</td>\n",
       "      <td>0</td>\n",
       "      <td>118.53</td>\n",
       "      <td>3600</td>\n",
       "      <td>0</td>\n",
       "      <td>300.3</td>\n",
       "      <td>1000.0</td>\n",
       "      <td>...</td>\n",
       "      <td>0</td>\n",
       "      <td>0</td>\n",
       "      <td>0</td>\n",
       "      <td>0</td>\n",
       "      <td>1</td>\n",
       "      <td>1</td>\n",
       "      <td>0</td>\n",
       "      <td>0</td>\n",
       "      <td>1</td>\n",
       "      <td>0</td>\n",
       "    </tr>\n",
       "    <tr>\n",
       "      <th>3</th>\n",
       "      <td>85000.0</td>\n",
       "      <td>1</td>\n",
       "      <td>12.80</td>\n",
       "      <td>3</td>\n",
       "      <td>0</td>\n",
       "      <td>210.81</td>\n",
       "      <td>7000</td>\n",
       "      <td>0</td>\n",
       "      <td>330.7</td>\n",
       "      <td>20.0</td>\n",
       "      <td>...</td>\n",
       "      <td>0</td>\n",
       "      <td>0</td>\n",
       "      <td>0</td>\n",
       "      <td>0</td>\n",
       "      <td>1</td>\n",
       "      <td>1</td>\n",
       "      <td>0</td>\n",
       "      <td>0</td>\n",
       "      <td>1</td>\n",
       "      <td>0</td>\n",
       "    </tr>\n",
       "    <tr>\n",
       "      <th>4</th>\n",
       "      <td>78000.0</td>\n",
       "      <td>0</td>\n",
       "      <td>33.14</td>\n",
       "      <td>11</td>\n",
       "      <td>0</td>\n",
       "      <td>1370.94</td>\n",
       "      <td>39000</td>\n",
       "      <td>0</td>\n",
       "      <td>230.3</td>\n",
       "      <td>1000.0</td>\n",
       "      <td>...</td>\n",
       "      <td>0</td>\n",
       "      <td>1</td>\n",
       "      <td>0</td>\n",
       "      <td>0</td>\n",
       "      <td>0</td>\n",
       "      <td>0</td>\n",
       "      <td>1</td>\n",
       "      <td>0</td>\n",
       "      <td>1</td>\n",
       "      <td>0</td>\n",
       "    </tr>\n",
       "  </tbody>\n",
       "</table>\n",
       "<p>5 rows × 90 columns</p>\n",
       "</div>"
      ],
      "text/plain": [
       "   annual_inc  delinq_2yrs    dti  emp_length  inq_last_6mths  installment  \\\n",
       "0    135000.0            1   6.60          10               0       291.92   \n",
       "1     32000.0            0  29.93           7               1       151.06   \n",
       "2     89712.0            0  20.30          11               0       118.53   \n",
       "3     85000.0            1  12.80           3               0       210.81   \n",
       "4     78000.0            0  33.14          11               0      1370.94   \n",
       "\n",
       "   loan_amnt  management_role  mths_since_1st_credit_line  \\\n",
       "0      14400                1                       237.4   \n",
       "1       4500                0                        97.4   \n",
       "2       3600                0                       300.3   \n",
       "3       7000                0                       330.7   \n",
       "4      39000                0                       230.3   \n",
       "\n",
       "   mths_since_last_delinq       ...         home_ownership_ANY  \\\n",
       "0                    11.0       ...                          0   \n",
       "1                  1000.0       ...                          0   \n",
       "2                  1000.0       ...                          0   \n",
       "3                    20.0       ...                          0   \n",
       "4                  1000.0       ...                          0   \n",
       "\n",
       "   home_ownership_MORTGAGE  home_ownership_NONE  home_ownership_OWN  \\\n",
       "0                        1                    0                   0   \n",
       "1                        0                    0                   0   \n",
       "2                        0                    0                   0   \n",
       "3                        0                    0                   0   \n",
       "4                        1                    0                   0   \n",
       "\n",
       "   home_ownership_RENT  verification_status_Not Verified  \\\n",
       "0                    0                                 1   \n",
       "1                    1                                 1   \n",
       "2                    1                                 1   \n",
       "3                    1                                 1   \n",
       "4                    0                                 0   \n",
       "\n",
       "   verification_status_Source Verified  verification_status_Verified  \\\n",
       "0                                    0                             0   \n",
       "1                                    0                             0   \n",
       "2                                    0                             0   \n",
       "3                                    0                             0   \n",
       "4                                    1                             0   \n",
       "\n",
       "   term_ 36 months  term_ 60 months  \n",
       "0                0                1  \n",
       "1                1                0  \n",
       "2                1                0  \n",
       "3                1                0  \n",
       "4                1                0  \n",
       "\n",
       "[5 rows x 90 columns]"
      ]
     },
     "execution_count": 121,
     "metadata": {},
     "output_type": "execute_result"
    }
   ],
   "source": [
    "print(train_df.shape)\n",
    "train_df.head()"
   ]
  },
  {
   "cell_type": "code",
   "execution_count": 21,
   "metadata": {},
   "outputs": [
    {
     "data": {
      "text/plain": [
       "((103546, 90), (96779, 91))"
      ]
     },
     "execution_count": 21,
     "metadata": {},
     "output_type": "execute_result"
    }
   ],
   "source": [
    "train_df.shape, test_df.shape"
   ]
  },
  {
   "cell_type": "code",
   "execution_count": 22,
   "metadata": {},
   "outputs": [],
   "source": [
    "# export to csv\n",
    "train_df.to_csv('processed_train.csv')\n",
    "test_df.to_csv('processed_test.csv')"
   ]
  },
  {
   "cell_type": "markdown",
   "metadata": {},
   "source": [
    "## Model decision"
   ]
  },
  {
   "cell_type": "markdown",
   "metadata": {},
   "source": [
    "### 1. Cross Validation\n",
    "Procedures: \n",
    "1. Stratified 5-fold __cross-validation split__ on the training dataset:\n",
    "    - for each split: \n",
    "        - X_train, X_val, y_train, y_val\n",
    "        - same default rate as the whole dataset\n",
    "        \n",
    "2. For each cross-validation iteration: \n",
    "    - __fit__ all the preprocessing and classification process __on X_train, y_train__\n",
    "    - __validate__ it on the corresponding __X_val, y_val__\n",
    "    - average the scores => cv score\n",
    "    \n",
    "3. Use the cv score to determine the preprocessing steps, hyperparameter value with __Gridsearch__. \n",
    "\n",
    "4. __Refit__ on the whole training dataset with the best hyperparameters found in step 3. "
   ]
  },
  {
   "cell_type": "code",
   "execution_count": 23,
   "metadata": {},
   "outputs": [],
   "source": [
    "X = train_df.drop(['target'],axis=1)\n",
    "y = train_df['target']\n",
    "X_test = test_df.drop(['target','int_rate'],axis=1)\n",
    "y_test = test_df['target']\n",
    "# stratified cv split to keep inbanaced data distribution same in each fold\n",
    "cv = StratifiedShuffleSplit(n_splits=5,random_state=42)"
   ]
  },
  {
   "cell_type": "code",
   "execution_count": 24,
   "metadata": {},
   "outputs": [
    {
     "data": {
      "text/plain": [
       "0.9150169000482858"
      ]
     },
     "execution_count": 24,
     "metadata": {},
     "output_type": "execute_result"
    }
   ],
   "source": [
    "# logistic regression\n",
    "logreg = LogisticRegression(random_state=42)\n",
    "score = cross_val_score(logreg, X, y, cv=cv).mean(); score"
   ]
  },
  {
   "cell_type": "code",
   "execution_count": 25,
   "metadata": {},
   "outputs": [],
   "source": [
    "from imblearn.ensemble import BalancedRandomForestClassifier\n",
    "from sklearn.metrics import balanced_accuracy_score\n",
    "\n",
    "bbc = BalancedRandomForestClassifier(sampling_strategy='auto',\n",
    "                                     n_estimators=100, random_state=0)"
   ]
  },
  {
   "cell_type": "code",
   "execution_count": 26,
   "metadata": {},
   "outputs": [
    {
     "data": {
      "text/plain": [
       "0.600906639066697"
      ]
     },
     "execution_count": 26,
     "metadata": {},
     "output_type": "execute_result"
    }
   ],
   "source": [
    "cross_val_score(bbc, X, y, cv=cv, scoring='balanced_accuracy').mean()"
   ]
  },
  {
   "cell_type": "code",
   "execution_count": 27,
   "metadata": {},
   "outputs": [
    {
     "data": {
      "text/plain": [
       "0.5949396426846933"
      ]
     },
     "execution_count": 27,
     "metadata": {},
     "output_type": "execute_result"
    }
   ],
   "source": [
    "cross_val_score(bbc, X, y, cv=cv, scoring='accuracy').mean()"
   ]
  },
  {
   "cell_type": "code",
   "execution_count": 28,
   "metadata": {},
   "outputs": [
    {
     "data": {
      "text/plain": [
       "0.643427647817385"
      ]
     },
     "execution_count": 28,
     "metadata": {},
     "output_type": "execute_result"
    }
   ],
   "source": [
    "cross_val_score(bbc, X, y, cv=cv, scoring='roc_auc').mean()"
   ]
  },
  {
   "cell_type": "code",
   "execution_count": 32,
   "metadata": {},
   "outputs": [],
   "source": [
    "# tried a few class weights"
   ]
  },
  {
   "cell_type": "code",
   "execution_count": 33,
   "metadata": {},
   "outputs": [
    {
     "name": "stdout",
     "output_type": "stream",
     "text": [
      "0.6102708988565171 0.8987928536938679\n"
     ]
    }
   ],
   "source": [
    "logreg = LogisticRegression(random_state=42,class_weight={1:5,0:1})\n",
    "auc_score = cross_val_score(logreg, X, y, cv=cv, scoring='roc_auc').mean()\n",
    "accuracy_score = cross_val_score(logreg, X, y, cv=cv, scoring='accuracy').mean()\n",
    "print(auc_score,accuracy_score)"
   ]
  },
  {
   "cell_type": "code",
   "execution_count": 34,
   "metadata": {},
   "outputs": [
    {
     "name": "stdout",
     "output_type": "stream",
     "text": [
      "0.6719521872830077 0.704297440849831\n"
     ]
    }
   ],
   "source": [
    "logreg = LogisticRegression(random_state=42,class_weight={1:10,0:1})\n",
    "auc_score = cross_val_score(logreg, X, y, cv=cv, scoring='roc_auc').mean()\n",
    "accuracy_score = cross_val_score(logreg, X, y, cv=cv, scoring='accuracy').mean()\n",
    "print(auc_score,accuracy_score)"
   ]
  },
  {
   "cell_type": "code",
   "execution_count": 35,
   "metadata": {},
   "outputs": [
    {
     "name": "stdout",
     "output_type": "stream",
     "text": [
      "0.5788971828191649 0.9146885562530178\n"
     ]
    }
   ],
   "source": [
    "logreg = LogisticRegression(random_state=42,class_weight={1:2,0:1})\n",
    "auc_score = cross_val_score(logreg, X, y, cv=cv, scoring='roc_auc').mean()\n",
    "accuracy_score = cross_val_score(logreg, X, y, cv=cv, scoring='accuracy').mean()\n",
    "print(auc_score,accuracy_score)"
   ]
  },
  {
   "cell_type": "code",
   "execution_count": 36,
   "metadata": {},
   "outputs": [
    {
     "name": "stdout",
     "output_type": "stream",
     "text": [
      "0.5615819946667289 0.915036214389184\n"
     ]
    }
   ],
   "source": [
    "logreg = LogisticRegression(random_state=42,class_weight={1:1,0:1})\n",
    "auc_score = cross_val_score(logreg, X, y, cv=cv, scoring='roc_auc').mean()\n",
    "accuracy_score = cross_val_score(logreg, X, y, cv=cv, scoring='accuracy').mean()\n",
    "print(auc_score,accuracy_score)"
   ]
  },
  {
   "cell_type": "code",
   "execution_count": 37,
   "metadata": {},
   "outputs": [],
   "source": [
    "# plot feature importance"
   ]
  },
  {
   "cell_type": "code",
   "execution_count": 35,
   "metadata": {},
   "outputs": [
    {
     "data": {
      "text/plain": [
       "0.5556150572519455"
      ]
     },
     "execution_count": 35,
     "metadata": {},
     "output_type": "execute_result"
    }
   ],
   "source": [
    "rf = RandomForestClassifier(n_estimators=10, random_state=42)\n",
    "cross_val_score(rf, X, y, cv=cv,scoring='roc_auc').mean()"
   ]
  },
  {
   "cell_type": "code",
   "execution_count": 39,
   "metadata": {},
   "outputs": [
    {
     "data": {
      "text/plain": [
       "RandomForestClassifier(bootstrap=True, class_weight=None, criterion='gini',\n",
       "            max_depth=None, max_features='auto', max_leaf_nodes=None,\n",
       "            min_impurity_decrease=0.0, min_impurity_split=None,\n",
       "            min_samples_leaf=1, min_samples_split=2,\n",
       "            min_weight_fraction_leaf=0.0, n_estimators=10, n_jobs=None,\n",
       "            oob_score=False, random_state=42, verbose=0, warm_start=False)"
      ]
     },
     "execution_count": 39,
     "metadata": {},
     "output_type": "execute_result"
    }
   ],
   "source": [
    "rf.fit(X,y)"
   ]
  },
  {
   "cell_type": "code",
   "execution_count": 50,
   "metadata": {},
   "outputs": [],
   "source": [
    "rf_pred = rf.predict(X_test)"
   ]
  },
  {
   "cell_type": "code",
   "execution_count": 62,
   "metadata": {},
   "outputs": [
    {
     "data": {
      "text/plain": [
       "0.9312144163506546"
      ]
     },
     "execution_count": 62,
     "metadata": {},
     "output_type": "execute_result"
    }
   ],
   "source": [
    "metrics.accuracy_score(y_test,rf_pred)"
   ]
  },
  {
   "cell_type": "code",
   "execution_count": 63,
   "metadata": {},
   "outputs": [
    {
     "data": {
      "text/plain": [
       "0.5007547004539271"
      ]
     },
     "execution_count": 63,
     "metadata": {},
     "output_type": "execute_result"
    }
   ],
   "source": [
    "metrics.roc_auc_score(y_test,rf_pred)"
   ]
  },
  {
   "cell_type": "code",
   "execution_count": 40,
   "metadata": {},
   "outputs": [
    {
     "data": {
      "text/plain": [
       "array([ 5,  2,  8,  0,  6, 11,  9,  3,  4, 10,  1, 12,  7, 70, 69, 83, 80,\n",
       "       64, 63, 17, 82, 66, 62, 46, 73, 86, 65, 22, 85, 77])"
      ]
     },
     "execution_count": 40,
     "metadata": {},
     "output_type": "execute_result"
    }
   ],
   "source": [
    "fi = rf.feature_importances_\n",
    "idxs = fi.argsort()[-30:][::-1];idxs"
   ]
  },
  {
   "cell_type": "code",
   "execution_count": 41,
   "metadata": {},
   "outputs": [
    {
     "data": {
      "text/plain": [
       "[Text(0,0,'installment'),\n",
       " Text(0,0,'dti'),\n",
       " Text(0,0,'mths_since_1st_credit_line'),\n",
       " Text(0,0,'annual_inc'),\n",
       " Text(0,0,'loan_amnt'),\n",
       " Text(0,0,'open_acc'),\n",
       " Text(0,0,'mths_since_last_delinq'),\n",
       " Text(0,0,'emp_length'),\n",
       " Text(0,0,'inq_last_6mths'),\n",
       " Text(0,0,'mths_since_last_record'),\n",
       " Text(0,0,'delinq_2yrs'),\n",
       " Text(0,0,'pub_rec'),\n",
       " Text(0,0,'management_role'),\n",
       " Text(0,0,'title_Debt consolidation'),\n",
       " Text(0,0,'title_Credit card refinancing'),\n",
       " Text(0,0,'home_ownership_RENT'),\n",
       " Text(0,0,'home_ownership_MORTGAGE'),\n",
       " Text(0,0,'region_SouthEast'),\n",
       " Text(0,0,'region_NorthEast'),\n",
       " Text(0,0,'addr_state_CA'),\n",
       " Text(0,0,'home_ownership_OWN'),\n",
       " Text(0,0,'region_West'),\n",
       " Text(0,0,'region_MidWest'),\n",
       " Text(0,0,'addr_state_NY'),\n",
       " Text(0,0,'title_Home improvement'),\n",
       " Text(0,0,'verification_status_Verified'),\n",
       " Text(0,0,'region_SouthWest'),\n",
       " Text(0,0,'addr_state_FL'),\n",
       " Text(0,0,'verification_status_Source Verified'),\n",
       " Text(0,0,'title_Other')]"
      ]
     },
     "execution_count": 41,
     "metadata": {},
     "output_type": "execute_result"
    },
    {
     "data": {
      "image/png": "[encoded data removed]",
      "text/plain": [
       "<Figure size 1152x576 with 1 Axes>"
      ]
     },
     "metadata": {
      "needs_background": "light"
     },
     "output_type": "display_data"
    }
   ],
   "source": [
    "plt.figure(figsize=(16,8))\n",
    "s=sns.barplot(x=X.columns[idxs],y=fi[idxs])\n",
    "s.set_xticklabels(s.get_xticklabels(), rotation=40, ha=\"right\",size=16)"
   ]
  },
  {
   "cell_type": "markdown",
   "metadata": {},
   "source": [
    "### Final model\n",
    "\n",
    "not final model, just something to enable you guys to continue the work\n",
    "\n",
    "I'll finalize the data in a day or so :)"
   ]
  },
  {
   "cell_type": "markdown",
   "metadata": {},
   "source": [
    "## Prediction - Default Probability  ( Logistic Regression)"
   ]
  },
  {
   "cell_type": "code",
   "execution_count": 64,
   "metadata": {},
   "outputs": [
    {
     "data": {
      "text/plain": [
       "LogisticRegression(C=1.0, class_weight=None, dual=False, fit_intercept=True,\n",
       "          intercept_scaling=1, max_iter=100, multi_class='warn',\n",
       "          n_jobs=None, penalty='l2', random_state=42, solver='warn',\n",
       "          tol=0.0001, verbose=0, warm_start=False)"
      ]
     },
     "execution_count": 64,
     "metadata": {},
     "output_type": "execute_result"
    }
   ],
   "source": [
    "logreg = LogisticRegression(random_state=42)\n",
    "logreg.fit(X, y)"
   ]
  },
  {
   "cell_type": "code",
   "execution_count": 65,
   "metadata": {},
   "outputs": [],
   "source": [
    "pred = logreg.predict(X_test)\n",
    "pred_prob = logreg.predict_proba(X_test)"
   ]
  },
  {
   "cell_type": "code",
   "execution_count": 66,
   "metadata": {},
   "outputs": [
    {
     "name": "stdout",
     "output_type": "stream",
     "text": [
      "(96779,)\n"
     ]
    },
    {
     "data": {
      "text/plain": [
       "array([0, 0, 0, ..., 0, 0, 0])"
      ]
     },
     "execution_count": 66,
     "metadata": {},
     "output_type": "execute_result"
    }
   ],
   "source": [
    "print(pred.shape)\n",
    "pred"
   ]
  },
  {
   "cell_type": "code",
   "execution_count": 94,
   "metadata": {},
   "outputs": [
    {
     "name": "stdout",
     "output_type": "stream",
     "text": [
      "(96779, 2)\n"
     ]
    },
    {
     "data": {
      "text/plain": [
       "array([[0.99389425, 0.00610575],\n",
       "       [0.88548028, 0.11451972],\n",
       "       [0.96155822, 0.03844178],\n",
       "       ...,\n",
       "       [0.82921023, 0.17078977],\n",
       "       [0.90917496, 0.09082504],\n",
       "       [0.82201284, 0.17798716]])"
      ]
     },
     "execution_count": 94,
     "metadata": {},
     "output_type": "execute_result"
    }
   ],
   "source": [
    "print(pred_prob.shape)\n",
    "pred_prob"
   ]
  },
  {
   "cell_type": "code",
   "execution_count": 78,
   "metadata": {},
   "outputs": [
    {
     "name": "stdout",
     "output_type": "stream",
     "text": [
      "[0 0 0 ... 0 0 0]\n"
     ]
    }
   ],
   "source": [
    "print(pred)"
   ]
  },
  {
   "cell_type": "code",
   "execution_count": null,
   "metadata": {},
   "outputs": [],
   "source": []
  },
  {
   "cell_type": "code",
   "execution_count": 81,
   "metadata": {},
   "outputs": [],
   "source": [
    "#np.savetxt('default_probabilities.csv',pred_prob)\n",
    "#pred_prob[:,1].to_csv('PD.csv')\n",
    "np.savetxt(\"PD.csv\", pred_prob[:,1], delimiter=\",\", fmt='%f')"
   ]
  },
  {
   "cell_type": "markdown",
   "metadata": {},
   "source": [
    "## Prediction - Default Probability  ( Random Forest) "
   ]
  },
  {
   "cell_type": "code",
   "execution_count": 69,
   "metadata": {},
   "outputs": [],
   "source": [
    "prob_rf = rf.predict_proba(X_test)"
   ]
  },
  {
   "cell_type": "code",
   "execution_count": 80,
   "metadata": {},
   "outputs": [
    {
     "data": {
      "text/plain": [
       "array([[1. , 0. ],\n",
       "       [0.9, 0.1],\n",
       "       [0.9, 0.1],\n",
       "       ...,\n",
       "       [1. , 0. ],\n",
       "       [1. , 0. ],\n",
       "       [0.8, 0.2]])"
      ]
     },
     "execution_count": 80,
     "metadata": {},
     "output_type": "execute_result"
    }
   ],
   "source": [
    "prob_rf"
   ]
  },
  {
   "cell_type": "code",
   "execution_count": 75,
   "metadata": {},
   "outputs": [
    {
     "name": "stdout",
     "output_type": "stream",
     "text": [
      "(96779, 2)\n"
     ]
    }
   ],
   "source": [
    "print(prob_rf.shape)"
   ]
  },
  {
   "cell_type": "code",
   "execution_count": 98,
   "metadata": {},
   "outputs": [],
   "source": [
    "np.savetxt(\"PD_rf.csv\", prob_rf[:,1], delimiter=\",\", fmt='%f')"
   ]
  }
 ],
 "metadata": {
  "kernelspec": {
   "display_name": "Python 3",
   "language": "python",
   "name": "python3"
  },
  "language_info": {
   "codemirror_mode": {
    "name": "ipython",
    "version": 3
   },
   "file_extension": ".py",
   "mimetype": "text/x-python",
   "name": "python",
   "nbconvert_exporter": "python",
   "pygments_lexer": "ipython3",
   "version": "3.6.7"
  }
 },
 "nbformat": 4,
 "nbformat_minor": 2
}
